{
 "cells": [
  {
   "cell_type": "code",
   "execution_count": 11,
   "id": "222e3e85",
   "metadata": {},
   "outputs": [],
   "source": [
    "# Sort an Array of 0s, 1s, and 2s\n",
    "def sort012(arr, n):\n",
    "    low = 0\n",
    "    high = n - 1\n",
    "    mid = 0\n",
    "\n",
    "    while mid <= high:\n",
    "        if arr[mid] == 0:\n",
    "            arr[low], arr[mid] = arr[mid], arr[low]\n",
    "            low += 1\n",
    "            mid += 1\n",
    "        elif arr[mid] == 1:\n",
    "            mid += 1\n",
    "        else:\n",
    "            arr[mid], arr[high] = arr[high], arr[mid]\n",
    "            high -= 1\n"
   ]
  },
  {
   "cell_type": "code",
   "execution_count": 12,
   "id": "78e90461",
   "metadata": {},
   "outputs": [
    {
     "name": "stdout",
     "output_type": "stream",
     "text": [
      "[0, 0, 1, 2, 2]\n"
     ]
    }
   ],
   "source": [
    "arr1 = [0, 2, 1, 2, 0]\n",
    "n1 = len(arr1)\n",
    "sort012(arr1, n1)\n",
    "print(arr1) "
   ]
  },
  {
   "cell_type": "code",
   "execution_count": 13,
   "id": "f969e53f",
   "metadata": {},
   "outputs": [
    {
     "name": "stdout",
     "output_type": "stream",
     "text": [
      "[0, 0, 1]\n"
     ]
    }
   ],
   "source": [
    "arr2 = [0, 1, 0]\n",
    "n2 = len(arr2)\n",
    "sort012(arr2, n2)\n",
    "print(arr2)"
   ]
  },
  {
   "cell_type": "code",
   "execution_count": 25,
   "id": "d7a3434d",
   "metadata": {},
   "outputs": [],
   "source": [
    "# Binary Search\n",
    "def binarysearch(self, arr, n, k):\n",
    "    left, right = 0, n - 1\n",
    "        \n",
    "    while left <= right:\n",
    "        mid = left + (right - left) // 2\n",
    "            \n",
    "        if arr[mid] == k:\n",
    "            return mid\n",
    "        elif arr[mid] < k:\n",
    "            left = mid + 1\n",
    "        else:\n",
    "            right = mid - 1\n",
    "        \n",
    "\n",
    "    \n"
   ]
  },
  {
   "cell_type": "code",
   "execution_count": 26,
   "id": "494c892f",
   "metadata": {},
   "outputs": [
    {
     "name": "stdout",
     "output_type": "stream",
     "text": [
      "3\n"
     ]
    }
   ],
   "source": [
    "sol = Solution()\n",
    "\n",
    "arr3 = [1, 2, 3, 4, 5]\n",
    "n3 = len(arr3)\n",
    "k3 = 4\n",
    "result3 = sol.binarysearch(arr3, n3, k3)\n",
    "print(result3)  # Output: 3\n"
   ]
  },
  {
   "cell_type": "code",
   "execution_count": 27,
   "id": "7d8407de",
   "metadata": {},
   "outputs": [
    {
     "name": "stdout",
     "output_type": "stream",
     "text": [
      "-1\n"
     ]
    }
   ],
   "source": [
    "\n",
    "arr4 = [11, 22, 33, 44, 55]\n",
    "n4 = len(arr4)\n",
    "k4 = 445\n",
    "result4 = sol.binarysearch(arr4, n4, k4)\n",
    "print(result4)  # Output: -1\n"
   ]
  },
  {
   "cell_type": "code",
   "execution_count": null,
   "id": "19fd7187",
   "metadata": {},
   "outputs": [],
   "source": []
  },
  {
   "cell_type": "code",
   "execution_count": null,
   "id": "347b2bce",
   "metadata": {},
   "outputs": [],
   "source": []
  }
 ],
 "metadata": {
  "kernelspec": {
   "display_name": "Python 3 (ipykernel)",
   "language": "python",
   "name": "python3"
  },
  "language_info": {
   "codemirror_mode": {
    "name": "ipython",
    "version": 3
   },
   "file_extension": ".py",
   "mimetype": "text/x-python",
   "name": "python",
   "nbconvert_exporter": "python",
   "pygments_lexer": "ipython3",
   "version": "3.11.5"
  }
 },
 "nbformat": 4,
 "nbformat_minor": 5
}
